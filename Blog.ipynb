{
 "cells": [
  {
   "cell_type": "markdown",
   "metadata": {},
   "source": [
    "# Detection exoplanète"
   ]
  },
  {
   "cell_type": "markdown",
   "metadata": {},
   "source": [
    "Lebreton Mélissa, Raphanel Eugène, Huby Florine"
   ]
  },
  {
   "cell_type": "markdown",
   "metadata": {},
   "source": [
    "## Séance 1 :\n",
    "\n",
    "Mélissa : Recherche documentaire sur la méthode de detection des vitesses radiales.   \n",
    "Eugène : Recherche documentaire sur la rotation du centre de masse, calcul de la vitesse à partir de la troisième loi de Kepler   \n",
    "Florine : Recherche documentaire sur les lois de Kelpler et les mouvements des planètes. Etude du site exoplanet.eu dans le but de creer une simulation du mouvement d'une exoplanète par rapport à son étoile.   \n",
    "\n",
    "## Séance 2 :\n",
    "Mélissa: Rédaction de la partie sur la méthode de détection, exercice sur la détection sur la vitesse radiale sur le site EU-HOU \n",
    "\n",
    "\n"
   ]
  },
  {
   "cell_type": "code",
   "execution_count": null,
   "metadata": {
    "collapsed": true
   },
   "outputs": [],
   "source": []
  }
 ],
 "metadata": {
  "kernelspec": {
   "display_name": "Python 3",
   "language": "python",
   "name": "python3"
  },
  "language_info": {
   "codemirror_mode": {
    "name": "ipython",
    "version": 3
   },
   "file_extension": ".py",
   "mimetype": "text/x-python",
   "name": "python",
   "nbconvert_exporter": "python",
   "pygments_lexer": "ipython3",
   "version": "3.4.1"
  }
 },
 "nbformat": 4,
 "nbformat_minor": 0
}
