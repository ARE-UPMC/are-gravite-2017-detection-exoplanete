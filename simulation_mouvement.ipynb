{
 "cells": [
  {
   "cell_type": "code",
   "execution_count": null,
   "metadata": {
    "collapsed": false
   },
   "outputs": [],
   "source": [
    "%matplotlib notebook\n",
    "import numpy as np\n",
    "from matplotlib import pyplot as plt\n",
    "from matplotlib import animation\n",
    "from pylab import*\n",
    "fig = plt.figure()\n",
    "figure(figsize=(10,8), dpi=80)\n",
    "ax = plt.axes(xlim=(0, 10), ylim=(0, 10))\n",
    "patch = plt.Circle((5, -5), 0.15, fc='r')\n",
    "scatter(5, 5, color=\"green\", label=\"centre de l'etoile\")\n",
    "def init():\n",
    "    patch.center = (5, 5)\n",
    "    ax.add_patch(patch)\n",
    "    return patch,\n",
    "\n",
    "def animate(i):\n",
    "    x, y = patch.center\n",
    "    x = 5 + 3 * np.sin(np.radians(i))\n",
    "    y = 5 + 3 * np.cos(np.radians(i))\n",
    "    patch.center = (x, y)\n",
    "    return patch,\n",
    "\n",
    "anim = animation.FuncAnimation(fig, animate, \n",
    "                               init_func=init, \n",
    "                               frames=360, \n",
    "                               interval=20,\n",
    "                               blit=True)\n",
    "\n",
    "plt.show()"
   ]
  },
  {
   "cell_type": "code",
   "execution_count": null,
   "metadata": {
    "collapsed": false
   },
   "outputs": [],
   "source": [
    "import numpy as np\n",
    "from pylab import *\n",
    "%matplotlib inline\n",
    "figure(figsize=(10,8), dpi=80)\n",
    "def simulation_terre_soleil(m,M,T,R):\n",
    "    \"T:periode en jours,masse en masse terrestre,Rayon en UA\"\n",
    "    LR=[]\n",
    "    i=0\n",
    "    a=(0,0)\n",
    "    x1=[]\n",
    "    y1=[]\n",
    "    while i<T:\n",
    "        x1.append(-R*sin(2*i*np.pi/T))\n",
    "        y1.append(R*cos(2*i*np.pi/T))\n",
    "        LR.append(a)\n",
    "        i=i+1\n",
    "    xcdm=[]\n",
    "    ycdm=[]\n",
    "    for k in range(0,len(x1)):\n",
    "        xcdm.append((m*x1[k])/(m+M))\n",
    "        ycdm.append((m*y1[k])/(m+M))\n",
    "        \n",
    "    plot(x1, y1, color=\"blue\", linewidth=2.5, linestyle=\"-\", label=\"orbite\")\n",
    "    plot(xcdm, ycdm, color=\"red\", linewidth=2.5, linestyle=\"-\", label=\"centre de masse\")\n",
    "    scatter(0, 0, color=\"green\", label=\"centre de l'étoile\")\n",
    "    legend(loc='upper left')\n",
    "    plt.show    \n",
    "simulation_terre_soleil(1,20,360,1)"
   ]
  },
  {
   "cell_type": "code",
   "execution_count": null,
   "metadata": {
    "collapsed": false
   },
   "outputs": [],
   "source": [
    "%matplotlib notebook\n",
    "import numpy as np\n",
    "from matplotlib import pyplot as plt\n",
    "from matplotlib import animation\n",
    "from pylab import*\n",
    "fig = plt.figure()\n",
    "fig.set_dpi(100)\n",
    "fig.set_size_inches(5, 5)\n",
    "\n",
    "ax = plt.axes(xlim=(0, 10), ylim=(0, 10))\n",
    "patch = plt.Circle((5, -5), 0.15, fc='r')\n",
    "patch2 = plt.Circle((5, -5), 0.25, fc='b')\n",
    "scatter(5, 5, color=\"green\")\n",
    "def init():\n",
    "    patch.center = (5, 5)\n",
    "    ax.add_patch(patch)\n",
    "    return patch,\n",
    "\n",
    "def animate(i):\n",
    "    x, y = patch.center\n",
    "    x = 5 + 3 * np.sin(np.radians(i))\n",
    "    y = 5 + 3 * np.cos(np.radians(i))\n",
    "    patch.center = (x, y)\n",
    "    return patch,\n",
    "\n",
    "anim = animation.FuncAnimation(fig, animate, \n",
    "                               init_func=init, \n",
    "                               frames=360, \n",
    "                               interval=20,\n",
    "                               blit=True)\n",
    "\n",
    "def init2():\n",
    "    patch2.center = (5, 5)\n",
    "    ax.add_patch2(patch2)\n",
    "    return patch2,\n",
    "\n",
    "def animate2(i):\n",
    "    x2, y2 = patch2.center\n",
    "    x2 = 10 + 3 * np.sin(np.radians(i))\n",
    "    y2 = 10 + 3 * np.cos(np.radians(i))\n",
    "    patch.center = (x2, y2)\n",
    "    return patch2,\n",
    "\n",
    "anim2 = animation.FuncAnimation(fig, animate2, \n",
    "                               init_func=init2, \n",
    "                               frames=360, \n",
    "                               interval=20,\n",
    "                               blit=True)\n",
    "plt.show()"
   ]
  },
  {
   "cell_type": "code",
   "execution_count": null,
   "metadata": {
    "collapsed": true
   },
   "outputs": [],
   "source": []
  }
 ],
 "metadata": {
  "kernelspec": {
   "display_name": "Python 3",
   "language": "python",
   "name": "python3"
  },
  "language_info": {
   "codemirror_mode": {
    "name": "ipython",
    "version": 3
   },
   "file_extension": ".py",
   "mimetype": "text/x-python",
   "name": "python",
   "nbconvert_exporter": "python",
   "pygments_lexer": "ipython3",
   "version": "3.4.1"
  }
 },
 "nbformat": 4,
 "nbformat_minor": 0
}
