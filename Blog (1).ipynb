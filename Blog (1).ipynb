{
 "cells": [
  {
   "cell_type": "markdown",
   "metadata": {},
   "source": [
    "# Detection exoplanète"
   ]
  },
  {
   "cell_type": "markdown",
   "metadata": {},
   "source": [
    "Lebreton Mélissa, Raphanel Eugène, Huby Florine"
   ]
  },
  {
   "cell_type": "markdown",
   "metadata": {},
   "source": [
    "## Séance 1 :\n",
    "\n",
    "Mélissa : Recherche documentaire sur la méthode de detection des vitesses radiales.   \n",
    "Eugène : Recherche documentaire sur la rotation du centre de masse, calcul de la vitesse à partir de la troisième loi de Kepler   \n",
    "Florine : Recherche documentaire sur les lois de Kelpler et les mouvements des planètes. Etude du site exoplanet.eu dans le but de creer une simulation du mouvement d'une exoplanète par rapport à son étoile.   \n",
    "\n",
    "## Séance 2 :\n",
    "\n",
    "Florine : Recherche sur les orbites et leurs équations de trajectoire    \n",
    "Mélissa: Rédaction de la partie sur la méthode de détection, exercice sur la détection de la vitesse radiale sur le site EU-HOU   \n",
    "Eugène: recherche sur le code pour effectuer des similations en python. A l'aide des données du site EU,tracé de la vitesse orbitale pour mettre en avant l'effet Doppler\n",
    "\n",
    "## Séance 3:\n",
    "\n",
    "Eugène: travail entre les séances 1 et 2: simulaion en 2D sans mouvement (fichier simulation), création d'une fonction permettant de calculer le centre de masse en coordonnées cartésiens. Durant la séance: mise en mouvement des simulations ( fichier mouvement_simulaion)
   ]
  },
  {
   "cell_type": "code",
   "execution_count": null,
   "metadata": {
    "collapsed": true
   },
   "outputs": [],
   "source": []
  }
 ],
 "metadata": {
  "kernelspec": {
   "display_name": "Python 3",
   "language": "python",
   "name": "python3"
  },
  "language_info": {
   "codemirror_mode": {
    "name": "ipython",
    "version": 3
   },
   "file_extension": ".py",
   "mimetype": "text/x-python",
   "name": "python",
   "nbconvert_exporter": "python",
   "pygments_lexer": "ipython3",
   "version": "3.4.1"
  }
 },
 "nbformat": 4,
 "nbformat_minor": 0
}
