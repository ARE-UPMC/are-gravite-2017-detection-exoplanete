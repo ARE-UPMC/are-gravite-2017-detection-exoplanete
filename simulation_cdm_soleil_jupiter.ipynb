{
 "cells": [
  {
   "cell_type": "code",
   "execution_count": null,
   "metadata": {
    "collapsed": true
   },
   "outputs": [],
   "source": [
    "def position_cdm(m,a,M,b):\n",
    "    ax,ay=a\n",
    "    bx,by=b\n",
    "    cdmx=(m*ax+M*bx)/(m+M)\n",
    "    cdmy=(m*ay+M*bx)/(m+M)\n",
    "    return cdmx,cdmy\n",
    "position_cdm(1,(0,3),2,(0,0))"
   ]
  },
  {
   "cell_type": "code",
   "execution_count": null,
   "metadata": {
    "collapsed": true
   },
   "outputs": [],
   "source": [
    " "
   ]
  }
 ],
 "metadata": {
  "kernelspec": {
   "display_name": "Python 3",
   "language": "python",
   "name": "python3"
  },
  "language_info": {
   "codemirror_mode": {
    "name": "ipython",
    "version": 3
   },
   "file_extension": ".py",
   "mimetype": "text/x-python",
   "name": "python",
   "nbconvert_exporter": "python",
   "pygments_lexer": "ipython3",
   "version": "3.4.1"
  }
 },
 "nbformat": 4,
 "nbformat_minor": 0
}
