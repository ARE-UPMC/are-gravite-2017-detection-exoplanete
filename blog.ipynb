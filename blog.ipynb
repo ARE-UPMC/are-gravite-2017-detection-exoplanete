{
 "cells": [
  {
   "cell_type": "markdown",
   "metadata": {},
   "source": [
    "# Detection exoplanète\n",
    "## Etudiants: Mélissa Lebreton, Eugène Raphanel, Florine Huby, nom4\n"
   ]
  },
  {
   "cell_type": "markdown",
   "metadata": {},
   "source": [
    "### Semaine 1\n",
    "Eugène : Recherche documentaire sur la rotation du centre de masse, calcul de la vitesse à partir de la troisième loi de Kepler/n",
    "Mélissa : Recherche documentaire sur la méthode de detection des vitesses radiales. /n"
    "Florine : Recherche documentaire sur les lois de Kelpler et les mouvements des planètes. Etude du site exoplanet.eu dans le but de creer une simulation du mouvement d'une exoplanète par rapport à son étoile. /n"
    "### Semaine 2\n",
    "Bla bla\n",
    "### Semaine 3\n",
    "Bla Bla\n",
    "### Semaine 4\n",
    "Bla Bla"
   ]
  }
 ],
 "metadata": {
  "kernelspec": {
   "display_name": "Python 3",
   "language": "python",
   "name": "python3"
  },
  "language_info": {
   "codemirror_mode": {
    "name": "ipython",
    "version": 3
   },
   "file_extension": ".py",
   "mimetype": "text/x-python",
   "name": "python",
   "nbconvert_exporter": "python",
   "pygments_lexer": "ipython3",
   "version": "3.6.0"
  }
 },
 "nbformat": 4,
 "nbformat_minor": 2
}
