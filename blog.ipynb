{
 "cells": [
  {
   "cell_type": "markdown",
   "metadata": {},
   "source": [
    "# Detection exoplanète\n",
    "## Etudiants: Mélissa Lebreton, Eugène Raphanel, Florine Huby\n"
   ]
  },
  {
   "cell_type": "markdown",
   "metadata": {},
   "source": [
    "### Semaine 1\n",
    "Florine : Recherche documentaire sur les lois de Kelpler et sur les mouvements des planètes. 2tude du site explanète.eu \n",
    "### Semaine 2\n",
    "Bla bla\n",
    "### Semaine 3\n",
    "Bla Bla\n",
    "### Semaine 4\n",
    "Bla Bla"
   ]
  }
 ],
 "metadata": {
  "kernelspec": {
   "display_name": "Python 3",
   "language": "python",
   "name": "python3"
  },
  "language_info": {
   "codemirror_mode": {
    "name": "ipython",
    "version": 3
   },
   "file_extension": ".py",
   "mimetype": "text/x-python",
   "name": "python",
   "nbconvert_exporter": "python",
   "pygments_lexer": "ipython3",
   "version": "3.6.0"
  }
 },
 "nbformat": 4,
 "nbformat_minor": 2
}
